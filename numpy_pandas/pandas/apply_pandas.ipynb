{
 "cells": [
  {
   "cell_type": "markdown",
   "metadata": {},
   "source": []
  },
  {
   "cell_type": "code",
   "execution_count": 1,
   "metadata": {},
   "outputs": [],
   "source": [
    "import pandas as pd \n",
    "import numpy as np"
   ]
  },
  {
   "cell_type": "code",
   "execution_count": 12,
   "metadata": {},
   "outputs": [
    {
     "data": {
      "text/html": [
       "<div>\n",
       "<style scoped>\n",
       "    .dataframe tbody tr th:only-of-type {\n",
       "        vertical-align: middle;\n",
       "    }\n",
       "\n",
       "    .dataframe tbody tr th {\n",
       "        vertical-align: top;\n",
       "    }\n",
       "\n",
       "    .dataframe thead th {\n",
       "        text-align: right;\n",
       "    }\n",
       "</style>\n",
       "<table border=\"1\" class=\"dataframe\">\n",
       "  <thead>\n",
       "    <tr style=\"text-align: right;\">\n",
       "      <th></th>\n",
       "      <th>id</th>\n",
       "      <th>estudiante</th>\n",
       "      <th>fecha_inicio</th>\n",
       "      <th>edad</th>\n",
       "      <th>carrera_id</th>\n",
       "    </tr>\n",
       "  </thead>\n",
       "  <tbody>\n",
       "    <tr>\n",
       "      <th>0</th>\n",
       "      <td>1</td>\n",
       "      <td>Riannon</td>\n",
       "      <td>2020-03-07</td>\n",
       "      <td>23</td>\n",
       "      <td>3.0</td>\n",
       "    </tr>\n",
       "    <tr>\n",
       "      <th>1</th>\n",
       "      <td>2</td>\n",
       "      <td>Enrique</td>\n",
       "      <td>2020-08-28</td>\n",
       "      <td>23</td>\n",
       "      <td>2.0</td>\n",
       "    </tr>\n",
       "  </tbody>\n",
       "</table>\n",
       "</div>"
      ],
      "text/plain": [
       "   id estudiante fecha_inicio  edad  carrera_id\n",
       "0   1    Riannon   2020-03-07    23         3.0\n",
       "1   2    Enrique   2020-08-28    23         2.0"
      ]
     },
     "execution_count": 12,
     "metadata": {},
     "output_type": "execute_result"
    }
   ],
   "source": [
    "df = pd.read_excel('./Excel_data/students.xlsx')\n",
    "df.head(2)\n"
   ]
  },
  {
   "cell_type": "code",
   "execution_count": 4,
   "metadata": {},
   "outputs": [],
   "source": [
    "def two_times (value):\n",
    "    return value *2"
   ]
  },
  {
   "cell_type": "code",
   "execution_count": 5,
   "metadata": {},
   "outputs": [
    {
     "data": {
      "text/plain": [
       "0     46\n",
       "1     46\n",
       "2     48\n",
       "3     56\n",
       "4     56\n",
       "5     36\n",
       "6     46\n",
       "7     38\n",
       "8     52\n",
       "9     54\n",
       "10    38\n",
       "11    56\n",
       "12    48\n",
       "13    46\n",
       "14    50\n",
       "15    52\n",
       "16    38\n",
       "17    42\n",
       "18    48\n",
       "19    56\n",
       "20    46\n",
       "21    46\n",
       "22    52\n",
       "23    52\n",
       "24    46\n",
       "25    44\n",
       "26    42\n",
       "27    38\n",
       "Name: edad, dtype: int64"
      ]
     },
     "execution_count": 5,
     "metadata": {},
     "output_type": "execute_result"
    }
   ],
   "source": [
    "df['edad'].apply(two_times) #apply funciona para agregar cualquier tipo de función "
   ]
  },
  {
   "cell_type": "code",
   "execution_count": 6,
   "metadata": {},
   "outputs": [
    {
     "data": {
      "text/plain": [
       "0     46\n",
       "1     46\n",
       "2     48\n",
       "3     56\n",
       "4     56\n",
       "5     36\n",
       "6     46\n",
       "7     38\n",
       "8     52\n",
       "9     54\n",
       "10    38\n",
       "11    56\n",
       "12    48\n",
       "13    46\n",
       "14    50\n",
       "15    52\n",
       "16    38\n",
       "17    42\n",
       "18    48\n",
       "19    56\n",
       "20    46\n",
       "21    46\n",
       "22    52\n",
       "23    52\n",
       "24    46\n",
       "25    44\n",
       "26    42\n",
       "27    38\n",
       "Name: edad, dtype: int64"
      ]
     },
     "execution_count": 6,
     "metadata": {},
     "output_type": "execute_result"
    }
   ],
   "source": [
    "df['edad'].apply(lambda value : value * 2)"
   ]
  },
  {
   "cell_type": "code",
   "execution_count": 14,
   "metadata": {},
   "outputs": [
    {
     "data": {
      "text/plain": [
       "0     23\n",
       "1     46\n",
       "2     24\n",
       "3     28\n",
       "4     56\n",
       "5     18\n",
       "6     23\n",
       "7     19\n",
       "8     26\n",
       "9     27\n",
       "10    19\n",
       "11    28\n",
       "12    24\n",
       "13    23\n",
       "14    25\n",
       "15    26\n",
       "16    38\n",
       "17    21\n",
       "18    24\n",
       "19    28\n",
       "20    23\n",
       "21    46\n",
       "22    52\n",
       "23    52\n",
       "24    23\n",
       "25    22\n",
       "26    21\n",
       "27    38\n",
       "dtype: int64"
      ]
     },
     "execution_count": 14,
     "metadata": {},
     "output_type": "execute_result"
    }
   ],
   "source": [
    "df.apply(lambda x : x['edad'] * 2 if x['carrera_id'] == 2 else x['edad'],axis=1)"
   ]
  }
 ],
 "metadata": {
  "kernelspec": {
   "display_name": "Python 3.10.5 64-bit",
   "language": "python",
   "name": "python3"
  },
  "language_info": {
   "codemirror_mode": {
    "name": "ipython",
    "version": 3
   },
   "file_extension": ".py",
   "mimetype": "text/x-python",
   "name": "python",
   "nbconvert_exporter": "python",
   "pygments_lexer": "ipython3",
   "version": "3.10.5"
  },
  "orig_nbformat": 4,
  "vscode": {
   "interpreter": {
    "hash": "26de051ba29f2982a8de78e945f0abaf191376122a1563185a90213a26c5da77"
   }
  }
 },
 "nbformat": 4,
 "nbformat_minor": 2
}
